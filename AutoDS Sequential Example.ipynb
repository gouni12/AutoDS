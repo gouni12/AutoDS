{
 "cells": [
  {
   "cell_type": "code",
   "execution_count": 2,
   "metadata": {
    "executionInfo": {
     "elapsed": 1600,
     "status": "ok",
     "timestamp": 1749104810175,
     "user": {
      "displayName": "Gouni Jacobi",
      "userId": "08982400113585271278"
     },
     "user_tz": -180
    },
    "id": "AC0GOfa5V3dr"
   },
   "outputs": [],
   "source": [
    "import numpy as np\n",
    "import pandas as pd\n",
    "import matplotlib.pyplot as plt\n",
    "\n",
    "from scipy.stats import norm"
   ]
  },
  {
   "cell_type": "markdown",
   "metadata": {
    "id": "VjrRUDa4Zn7x"
   },
   "source": [
    "### Loading the Data"
   ]
  },
  {
   "cell_type": "code",
   "execution_count": 3,
   "metadata": {
    "colab": {
     "base_uri": "https://localhost:8080/",
     "height": 380
    },
    "executionInfo": {
     "elapsed": 2674,
     "status": "ok",
     "timestamp": 1749104812864,
     "user": {
      "displayName": "Gouni Jacobi",
      "userId": "08982400113585271278"
     },
     "user_tz": -180
    },
    "id": "Lft51SLfV57Z",
    "outputId": "d0ef0400-b549-4fad-fad4-5cba64ec6331"
   },
   "outputs": [
    {
     "name": "stdout",
     "output_type": "stream",
     "text": [
      "(115344, 5)\n"
     ]
    },
    {
     "data": {
      "text/html": [
       "<div>\n",
       "<style scoped>\n",
       "    .dataframe tbody tr th:only-of-type {\n",
       "        vertical-align: middle;\n",
       "    }\n",
       "\n",
       "    .dataframe tbody tr th {\n",
       "        vertical-align: top;\n",
       "    }\n",
       "\n",
       "    .dataframe thead th {\n",
       "        text-align: right;\n",
       "    }\n",
       "</style>\n",
       "<table border=\"1\" class=\"dataframe\">\n",
       "  <thead>\n",
       "    <tr style=\"text-align: right;\">\n",
       "      <th></th>\n",
       "      <th>USER_ID</th>\n",
       "      <th>EXPOSURE_DATE</th>\n",
       "      <th>VARIANT</th>\n",
       "      <th>KPI_ACTION</th>\n",
       "      <th>KPI_DATE</th>\n",
       "    </tr>\n",
       "  </thead>\n",
       "  <tbody>\n",
       "    <tr>\n",
       "      <th>74718</th>\n",
       "      <td>3291264.0</td>\n",
       "      <td>2025-05-21 00:00:09</td>\n",
       "      <td>\"Variation-1\"</td>\n",
       "      <td>0</td>\n",
       "      <td>NaN</td>\n",
       "    </tr>\n",
       "    <tr>\n",
       "      <th>39805</th>\n",
       "      <td>3291158.0</td>\n",
       "      <td>2025-05-21 00:00:18</td>\n",
       "      <td>\"Variation-1\"</td>\n",
       "      <td>0</td>\n",
       "      <td>NaN</td>\n",
       "    </tr>\n",
       "    <tr>\n",
       "      <th>75361</th>\n",
       "      <td>3291272.0</td>\n",
       "      <td>2025-05-21 00:00:24</td>\n",
       "      <td>\"Variation-1\"</td>\n",
       "      <td>0</td>\n",
       "      <td>NaN</td>\n",
       "    </tr>\n",
       "    <tr>\n",
       "      <th>87301</th>\n",
       "      <td>3291271.0</td>\n",
       "      <td>2025-05-21 00:00:36</td>\n",
       "      <td>\"Control\"</td>\n",
       "      <td>1</td>\n",
       "      <td>2025-05-30 23:40:04.000</td>\n",
       "    </tr>\n",
       "    <tr>\n",
       "      <th>66538</th>\n",
       "      <td>3291271.0</td>\n",
       "      <td>2025-05-21 00:00:36</td>\n",
       "      <td>\"Control\"</td>\n",
       "      <td>1</td>\n",
       "      <td>2025-05-31 00:17:42.000</td>\n",
       "    </tr>\n",
       "    <tr>\n",
       "      <th>16207</th>\n",
       "      <td>3291257.0</td>\n",
       "      <td>2025-05-21 00:00:41</td>\n",
       "      <td>\"Control\"</td>\n",
       "      <td>1</td>\n",
       "      <td>2025-05-21 00:04:18.000</td>\n",
       "    </tr>\n",
       "    <tr>\n",
       "      <th>6398</th>\n",
       "      <td>3291273.0</td>\n",
       "      <td>2025-05-21 00:00:42</td>\n",
       "      <td>\"Control\"</td>\n",
       "      <td>0</td>\n",
       "      <td>NaN</td>\n",
       "    </tr>\n",
       "    <tr>\n",
       "      <th>96741</th>\n",
       "      <td>3291272.0</td>\n",
       "      <td>2025-05-21 00:00:46</td>\n",
       "      <td>\"Variation-1\"</td>\n",
       "      <td>0</td>\n",
       "      <td>NaN</td>\n",
       "    </tr>\n",
       "    <tr>\n",
       "      <th>16206</th>\n",
       "      <td>3291257.0</td>\n",
       "      <td>2025-05-21 00:01:12</td>\n",
       "      <td>\"Control\"</td>\n",
       "      <td>1</td>\n",
       "      <td>2025-05-21 00:04:18.000</td>\n",
       "    </tr>\n",
       "    <tr>\n",
       "      <th>18452</th>\n",
       "      <td>3291272.0</td>\n",
       "      <td>2025-05-21 00:01:15</td>\n",
       "      <td>\"Variation-1\"</td>\n",
       "      <td>0</td>\n",
       "      <td>NaN</td>\n",
       "    </tr>\n",
       "  </tbody>\n",
       "</table>\n",
       "</div>"
      ],
      "text/plain": [
       "         USER_ID       EXPOSURE_DATE        VARIANT  KPI_ACTION  \\\n",
       "74718  3291264.0 2025-05-21 00:00:09  \"Variation-1\"           0   \n",
       "39805  3291158.0 2025-05-21 00:00:18  \"Variation-1\"           0   \n",
       "75361  3291272.0 2025-05-21 00:00:24  \"Variation-1\"           0   \n",
       "87301  3291271.0 2025-05-21 00:00:36      \"Control\"           1   \n",
       "66538  3291271.0 2025-05-21 00:00:36      \"Control\"           1   \n",
       "16207  3291257.0 2025-05-21 00:00:41      \"Control\"           1   \n",
       "6398   3291273.0 2025-05-21 00:00:42      \"Control\"           0   \n",
       "96741  3291272.0 2025-05-21 00:00:46  \"Variation-1\"           0   \n",
       "16206  3291257.0 2025-05-21 00:01:12      \"Control\"           1   \n",
       "18452  3291272.0 2025-05-21 00:01:15  \"Variation-1\"           0   \n",
       "\n",
       "                      KPI_DATE  \n",
       "74718                      NaN  \n",
       "39805                      NaN  \n",
       "75361                      NaN  \n",
       "87301  2025-05-30 23:40:04.000  \n",
       "66538  2025-05-31 00:17:42.000  \n",
       "16207  2025-05-21 00:04:18.000  \n",
       "6398                       NaN  \n",
       "96741                      NaN  \n",
       "16206  2025-05-21 00:04:18.000  \n",
       "18452                      NaN  "
      ]
     },
     "execution_count": 3,
     "metadata": {},
     "output_type": "execute_result"
    }
   ],
   "source": [
    "data = pd.read_csv(\"C:/Users/user/Documents/Bell/Datasets/AutoDS/trustpilot population.csv\")\n",
    "data['EXPOSURE_DATE'] = pd.to_datetime(data['EXPOSURE_DATE'])\n",
    "data.sort_values(by='EXPOSURE_DATE', inplace=True)\n",
    "\n",
    "print(data.shape)\n",
    "data.head(10)"
   ]
  },
  {
   "cell_type": "code",
   "execution_count": 4,
   "metadata": {
    "colab": {
     "base_uri": "https://localhost:8080/"
    },
    "executionInfo": {
     "elapsed": 92,
     "status": "ok",
     "timestamp": 1749104812959,
     "user": {
      "displayName": "Gouni Jacobi",
      "userId": "08982400113585271278"
     },
     "user_tz": -180
    },
    "id": "A9kq9WC0ifcU",
    "outputId": "b9688d85-8d5b-4c3a-c85f-7ed1e911b60c"
   },
   "outputs": [
    {
     "name": "stdout",
     "output_type": "stream",
     "text": [
      "Control   - Number of samples: 57661\n",
      "Treatment - Number of samples: 57683\n"
     ]
    }
   ],
   "source": [
    "data_control = data[data['VARIANT'] == '\"Control\"']\n",
    "data_treatment = data[data['VARIANT'] == '\"Variation-1\"']\n",
    "\n",
    "print(f'Control   - Number of samples: {data_control.shape[0]}')\n",
    "print(f'Treatment - Number of samples: {data_treatment.shape[0]}')"
   ]
  },
  {
   "cell_type": "markdown",
   "metadata": {
    "id": "8ERyyZQmZsBu"
   },
   "source": [
    "### Regular one-sided T-test (not sequential)"
   ]
  },
  {
   "cell_type": "code",
   "execution_count": 5,
   "metadata": {
    "colab": {
     "base_uri": "https://localhost:8080/"
    },
    "executionInfo": {
     "elapsed": 8,
     "status": "ok",
     "timestamp": 1749104818825,
     "user": {
      "displayName": "Gouni Jacobi",
      "userId": "08982400113585271278"
     },
     "user_tz": -180
    },
    "id": "wUvj8segfpHA",
    "outputId": "16b74400-bd26-4372-8cec-946a6f086fc6"
   },
   "outputs": [
    {
     "name": "stdout",
     "output_type": "stream",
     "text": [
      "Number of samples required in each group: 46164\n"
     ]
    }
   ],
   "source": [
    "alpha = 0.05\n",
    "beta = 0.2\n",
    "p_base = 0.3\n",
    "MDL = 0.025\n",
    "MDE = p_base * MDL\n",
    "sigma = np.sqrt(p_base*(1-p_base))\n",
    "\n",
    "N = 2 * (sigma * (norm.ppf(1-alpha) + norm.ppf(1-beta)) / MDE)**2\n",
    "N = int(np.ceil(N))\n",
    "print(f'Number of samples required in each group: {N}')"
   ]
  },
  {
   "cell_type": "code",
   "execution_count": 6,
   "metadata": {
    "colab": {
     "base_uri": "https://localhost:8080/"
    },
    "executionInfo": {
     "elapsed": 43,
     "status": "ok",
     "timestamp": 1749104824183,
     "user": {
      "displayName": "Gouni Jacobi",
      "userId": "08982400113585271278"
     },
     "user_tz": -180
    },
    "id": "SIXVPhVyihb5",
    "outputId": "49456c2b-20cb-4e64-8211-693e327af071"
   },
   "outputs": [
    {
     "name": "stdout",
     "output_type": "stream",
     "text": [
      "Control   - Mean: 0.3039, Number of samples: 46164\n",
      "Treatment - Mean: 0.3082, Number of samples: 46164\n",
      "\n",
      "Observed lift: 1.40%\n",
      "\n",
      "t-statistic: 1.407\n",
      "p-value: 0.080\n"
     ]
    }
   ],
   "source": [
    "Y_control = data_control.iloc[:N]['KPI_ACTION']\n",
    "Y_treatment = data_treatment.iloc[:N]['KPI_ACTION']\n",
    "\n",
    "mean_control = Y_control.mean()\n",
    "mean_treatment = Y_treatment.mean()\n",
    "\n",
    "n_control = Y_control.shape[0]\n",
    "n_treatment = Y_treatment.shape[0]\n",
    "\n",
    "print(f'Control   - Mean: {mean_control:.4f}, Number of samples: {n_control}')\n",
    "print(f'Treatment - Mean: {mean_treatment:.4f}, Number of samples: {n_treatment}')\n",
    "\n",
    "std_control = Y_control.std()\n",
    "std_treatment = Y_treatment.std()\n",
    "std_difference = np.sqrt((std_treatment**2 / n_treatment) + (std_control**2 / n_control))\n",
    "\n",
    "print(f'\\nObserved lift: {mean_treatment / mean_control - 1:.2%}')\n",
    "\n",
    "t_statistic = (mean_treatment - mean_control) / std_difference\n",
    "p_value = 1 - norm.cdf(t_statistic)\n",
    "\n",
    "print(f'\\nt-statistic: {t_statistic:.3f}')\n",
    "print(f'p-value: {p_value:.3f}')"
   ]
  },
  {
   "cell_type": "markdown",
   "metadata": {
    "id": "CPWCzaXhZ2Vu"
   },
   "source": [
    "### Sequential"
   ]
  },
  {
   "cell_type": "code",
   "execution_count": 7,
   "metadata": {
    "executionInfo": {
     "elapsed": 3,
     "status": "ok",
     "timestamp": 1749104841977,
     "user": {
      "displayName": "Gouni Jacobi",
      "userId": "08982400113585271278"
     },
     "user_tz": -180
    },
    "id": "DTGZVi9McEfs"
   },
   "outputs": [],
   "source": [
    "design = {'fb': [-2.0206408409400276,\n",
    "  -1.4707036032594498,\n",
    "  -1.0732569645904761,\n",
    "  -0.743251234434765,\n",
    "  -0.45487107273772087,\n",
    "  -0.1954083140723849,\n",
    "  0.04257918914093326,\n",
    "  0.26390860462831767,\n",
    "  0.4719279542742342,\n",
    "  0.6691190062543414,\n",
    "  0.8575163049993835,\n",
    "  1.03918634140849,\n",
    "  1.2173221479798773,\n",
    "  1.4004097678324625,\n",
    "  1.6334665423394543],\n",
    " 'eb': [4.1762944030231255,\n",
    "  3.7025230171140833,\n",
    "  3.412425304852192,\n",
    "  3.1895681348267497,\n",
    "  3.0031218982900745,\n",
    "  2.8399266737175886,\n",
    "  2.6929234835783804,\n",
    "  2.5577649883333042,\n",
    "  2.431459298875911,\n",
    "  2.311681621991688,\n",
    "  2.196258000806301,\n",
    "  2.082528128444262,\n",
    "  1.9659412442753499,\n",
    "  1.8350075992575465,\n",
    "  1.6334665423394543],\n",
    " 'ppl': 0.07516559068404118}\n",
    "\n",
    "futility_bound = design['fb']\n",
    "efficacy_bound = design['eb']\n",
    "ppl = design['ppl']\n",
    "looks = len(futility_bound)"
   ]
  },
  {
   "cell_type": "code",
   "execution_count": 8,
   "metadata": {
    "executionInfo": {
     "elapsed": 25,
     "status": "ok",
     "timestamp": 1749108736916,
     "user": {
      "displayName": "Gouni Jacobi",
      "userId": "08982400113585271278"
     },
     "user_tz": -180
    },
    "id": "Qz3wArjMhf9e"
   },
   "outputs": [],
   "source": [
    "stats_sequence = []\n",
    "\n",
    "for i in range(looks):\n",
    "    current_size = int((i+1) * ppl * N + 1)\n",
    "    Y_control = data_control.iloc[:current_size]['KPI_ACTION']\n",
    "    Y_treatment = data_treatment.iloc[:current_size]['KPI_ACTION']\n",
    "\n",
    "    mean_control = Y_control.mean()\n",
    "    mean_treatment = Y_treatment.mean()\n",
    "\n",
    "    std_control = Y_control.std()\n",
    "    std_treatment = Y_treatment.std()\n",
    "    std_difference = np.sqrt((std_treatment**2 / current_size) + (std_control**2 / current_size))\n",
    "\n",
    "    statistic = (mean_treatment - mean_control) / std_difference\n",
    "    stats_sequence.append(statistic)\n",
    "\n",
    "    # if statistic > efficacy_bound[i]:\n",
    "    #     print('Efficacy reached')\n",
    "    #     break\n",
    "    # elif statistic < futility_bound[i]:\n",
    "    #     print('Futility reached')\n",
    "    #     break"
   ]
  },
  {
   "cell_type": "code",
   "execution_count": 9,
   "metadata": {
    "colab": {
     "base_uri": "https://localhost:8080/",
     "height": 1000
    },
    "executionInfo": {
     "elapsed": 135,
     "status": "error",
     "timestamp": 1749122594414,
     "user": {
      "displayName": "Gouni Jacobi",
      "userId": "08982400113585271278"
     },
     "user_tz": -180
    },
    "id": "3RHXkkwplwVv",
    "outputId": "f15dec41-e8d6-451a-b582-5fbc4add684f"
   },
   "outputs": [
    {
     "data": {
      "image/png": "[encoded data removed]",
      "text/plain": [
       "<Figure size 1000x400 with 1 Axes>"
      ]
     },
     "metadata": {},
     "output_type": "display_data"
    },
    {
     "name": "stdout",
     "output_type": "stream",
     "text": [
      "Each group's size grows by 3470 samples each look.\n"
     ]
    }
   ],
   "source": [
    "plt.figure(figsize=(10, 4))\n",
    "\n",
    "x = np.arange(1, looks+1)\n",
    "\n",
    "plt.plot(x, efficacy_bound, color='g', label='Efficacy')\n",
    "plt.plot(x, futility_bound, color='r', label='Futility')\n",
    "plt.plot(x[:len(stats_sequence)], stats_sequence, color='b', label='Statistic')\n",
    "\n",
    "plt.axvline(x=1/ppl, color='orange', linestyle='-', linewidth=1, label='Non-sequential duration')\n",
    "# plt.axvline(x=11, color='purple', linestyle='-', linewidth=1, label='Sequentail duration')\n",
    "\n",
    "plt.axhline(y=0, color='k', linestyle='--', linewidth=0.7)\n",
    "plt.title('Sequencial Test')\n",
    "plt.xlabel('Look')\n",
    "plt.ylabel('Statistic')\n",
    "plt.xticks(x)\n",
    "plt.legend(loc='lower right')\n",
    "plt.show()\n",
    "\n",
    "print(f'Each group\\'s size grows by {int(ppl*N+1)} samples each look.')"
   ]
  },
  {
   "cell_type": "code",
   "execution_count": 10,
   "metadata": {
    "colab": {
     "base_uri": "https://localhost:8080/"
    },
    "executionInfo": {
     "elapsed": 22,
     "status": "ok",
     "timestamp": 1749108282315,
     "user": {
      "displayName": "Gouni Jacobi",
      "userId": "08982400113585271278"
     },
     "user_tz": -180
    },
    "id": "klS_CmJl-hZ-",
    "outputId": "9554babd-c86e-4093-9816-8553d64ed8f2"
   },
   "outputs": [
    {
     "data": {
      "text/plain": [
       "1.1274838602606176"
      ]
     },
     "execution_count": 10,
     "metadata": {},
     "output_type": "execute_result"
    }
   ],
   "source": [
    "15/(1/ppl)"
   ]
  },
  {
   "cell_type": "code",
   "execution_count": 11,
   "metadata": {
    "colab": {
     "base_uri": "https://localhost:8080/",
     "height": 423
    },
    "executionInfo": {
     "elapsed": 165,
     "status": "ok",
     "timestamp": 1749017418251,
     "user": {
      "displayName": "Gouni Jacobi",
      "userId": "08982400113585271278"
     },
     "user_tz": -180
    },
    "id": "pRoF-e2xjpCx",
    "outputId": "446468cc-7e50-4b10-ab6e-1220de966798"
   },
   "outputs": [
    {
     "data": {
      "text/html": [
       "<div>\n",
       "<style scoped>\n",
       "    .dataframe tbody tr th:only-of-type {\n",
       "        vertical-align: middle;\n",
       "    }\n",
       "\n",
       "    .dataframe tbody tr th {\n",
       "        vertical-align: top;\n",
       "    }\n",
       "\n",
       "    .dataframe thead th {\n",
       "        text-align: right;\n",
       "    }\n",
       "</style>\n",
       "<table border=\"1\" class=\"dataframe\">\n",
       "  <thead>\n",
       "    <tr style=\"text-align: right;\">\n",
       "      <th></th>\n",
       "      <th>USER_ID</th>\n",
       "      <th>EXPOSURE_DATE</th>\n",
       "      <th>VARIANT</th>\n",
       "      <th>KPI_ACTION</th>\n",
       "      <th>KPI_DATE</th>\n",
       "    </tr>\n",
       "  </thead>\n",
       "  <tbody>\n",
       "    <tr>\n",
       "      <th>87301</th>\n",
       "      <td>3291271.0</td>\n",
       "      <td>2025-05-21 00:00:36</td>\n",
       "      <td>\"Control\"</td>\n",
       "      <td>1</td>\n",
       "      <td>2025-05-30 23:40:04.000</td>\n",
       "    </tr>\n",
       "    <tr>\n",
       "      <th>66538</th>\n",
       "      <td>3291271.0</td>\n",
       "      <td>2025-05-21 00:00:36</td>\n",
       "      <td>\"Control\"</td>\n",
       "      <td>1</td>\n",
       "      <td>2025-05-31 00:17:42.000</td>\n",
       "    </tr>\n",
       "    <tr>\n",
       "      <th>16207</th>\n",
       "      <td>3291257.0</td>\n",
       "      <td>2025-05-21 00:00:41</td>\n",
       "      <td>\"Control\"</td>\n",
       "      <td>1</td>\n",
       "      <td>2025-05-21 00:04:18.000</td>\n",
       "    </tr>\n",
       "    <tr>\n",
       "      <th>6398</th>\n",
       "      <td>3291273.0</td>\n",
       "      <td>2025-05-21 00:00:42</td>\n",
       "      <td>\"Control\"</td>\n",
       "      <td>0</td>\n",
       "      <td>NaN</td>\n",
       "    </tr>\n",
       "    <tr>\n",
       "      <th>16206</th>\n",
       "      <td>3291257.0</td>\n",
       "      <td>2025-05-21 00:01:12</td>\n",
       "      <td>\"Control\"</td>\n",
       "      <td>1</td>\n",
       "      <td>2025-05-21 00:04:18.000</td>\n",
       "    </tr>\n",
       "    <tr>\n",
       "      <th>...</th>\n",
       "      <td>...</td>\n",
       "      <td>...</td>\n",
       "      <td>...</td>\n",
       "      <td>...</td>\n",
       "      <td>...</td>\n",
       "    </tr>\n",
       "    <tr>\n",
       "      <th>44364</th>\n",
       "      <td>2395644.0</td>\n",
       "      <td>2025-05-29 19:53:14</td>\n",
       "      <td>\"Control\"</td>\n",
       "      <td>1</td>\n",
       "      <td>2025-05-29 19:59:22.000</td>\n",
       "    </tr>\n",
       "    <tr>\n",
       "      <th>62859</th>\n",
       "      <td>3279139.0</td>\n",
       "      <td>2025-05-29 19:53:53</td>\n",
       "      <td>\"Control\"</td>\n",
       "      <td>0</td>\n",
       "      <td>NaN</td>\n",
       "    </tr>\n",
       "    <tr>\n",
       "      <th>9446</th>\n",
       "      <td>NaN</td>\n",
       "      <td>2025-05-29 19:54:04</td>\n",
       "      <td>\"Control\"</td>\n",
       "      <td>0</td>\n",
       "      <td>NaN</td>\n",
       "    </tr>\n",
       "    <tr>\n",
       "      <th>80227</th>\n",
       "      <td>3317948.0</td>\n",
       "      <td>2025-05-29 19:54:11</td>\n",
       "      <td>\"Control\"</td>\n",
       "      <td>1</td>\n",
       "      <td>2025-06-01 00:15:02.000</td>\n",
       "    </tr>\n",
       "    <tr>\n",
       "      <th>109497</th>\n",
       "      <td>3317948.0</td>\n",
       "      <td>2025-05-29 19:54:11</td>\n",
       "      <td>\"Control\"</td>\n",
       "      <td>1</td>\n",
       "      <td>2025-05-29 19:59:34.000</td>\n",
       "    </tr>\n",
       "  </tbody>\n",
       "</table>\n",
       "<p>38169 rows × 5 columns</p>\n",
       "</div>"
      ],
      "text/plain": [
       "          USER_ID       EXPOSURE_DATE    VARIANT  KPI_ACTION  \\\n",
       "87301   3291271.0 2025-05-21 00:00:36  \"Control\"           1   \n",
       "66538   3291271.0 2025-05-21 00:00:36  \"Control\"           1   \n",
       "16207   3291257.0 2025-05-21 00:00:41  \"Control\"           1   \n",
       "6398    3291273.0 2025-05-21 00:00:42  \"Control\"           0   \n",
       "16206   3291257.0 2025-05-21 00:01:12  \"Control\"           1   \n",
       "...           ...                 ...        ...         ...   \n",
       "44364   2395644.0 2025-05-29 19:53:14  \"Control\"           1   \n",
       "62859   3279139.0 2025-05-29 19:53:53  \"Control\"           0   \n",
       "9446          NaN 2025-05-29 19:54:04  \"Control\"           0   \n",
       "80227   3317948.0 2025-05-29 19:54:11  \"Control\"           1   \n",
       "109497  3317948.0 2025-05-29 19:54:11  \"Control\"           1   \n",
       "\n",
       "                       KPI_DATE  \n",
       "87301   2025-05-30 23:40:04.000  \n",
       "66538   2025-05-31 00:17:42.000  \n",
       "16207   2025-05-21 00:04:18.000  \n",
       "6398                        NaN  \n",
       "16206   2025-05-21 00:04:18.000  \n",
       "...                         ...  \n",
       "44364   2025-05-29 19:59:22.000  \n",
       "62859                       NaN  \n",
       "9446                        NaN  \n",
       "80227   2025-06-01 00:15:02.000  \n",
       "109497  2025-05-29 19:59:34.000  \n",
       "\n",
       "[38169 rows x 5 columns]"
      ]
     },
     "execution_count": 11,
     "metadata": {},
     "output_type": "execute_result"
    }
   ],
   "source": [
    "data_control.iloc[:int(11*ppl*N)]"
   ]
  },
  {
   "cell_type": "code",
   "execution_count": 12,
   "metadata": {
    "colab": {
     "base_uri": "https://localhost:8080/",
     "height": 423
    },
    "executionInfo": {
     "elapsed": 57,
     "status": "ok",
     "timestamp": 1749017441840,
     "user": {
      "displayName": "Gouni Jacobi",
      "userId": "08982400113585271278"
     },
     "user_tz": -180
    },
    "id": "JotFTlHLkA__",
    "outputId": "6e90334e-3980-4a1c-9f3c-8ebde89d993b"
   },
   "outputs": [
    {
     "data": {
      "text/html": [
       "<div>\n",
       "<style scoped>\n",
       "    .dataframe tbody tr th:only-of-type {\n",
       "        vertical-align: middle;\n",
       "    }\n",
       "\n",
       "    .dataframe tbody tr th {\n",
       "        vertical-align: top;\n",
       "    }\n",
       "\n",
       "    .dataframe thead th {\n",
       "        text-align: right;\n",
       "    }\n",
       "</style>\n",
       "<table border=\"1\" class=\"dataframe\">\n",
       "  <thead>\n",
       "    <tr style=\"text-align: right;\">\n",
       "      <th></th>\n",
       "      <th>USER_ID</th>\n",
       "      <th>EXPOSURE_DATE</th>\n",
       "      <th>VARIANT</th>\n",
       "      <th>KPI_ACTION</th>\n",
       "      <th>KPI_DATE</th>\n",
       "    </tr>\n",
       "  </thead>\n",
       "  <tbody>\n",
       "    <tr>\n",
       "      <th>87301</th>\n",
       "      <td>3291271.0</td>\n",
       "      <td>2025-05-21 00:00:36</td>\n",
       "      <td>\"Control\"</td>\n",
       "      <td>1</td>\n",
       "      <td>2025-05-30 23:40:04.000</td>\n",
       "    </tr>\n",
       "    <tr>\n",
       "      <th>66538</th>\n",
       "      <td>3291271.0</td>\n",
       "      <td>2025-05-21 00:00:36</td>\n",
       "      <td>\"Control\"</td>\n",
       "      <td>1</td>\n",
       "      <td>2025-05-31 00:17:42.000</td>\n",
       "    </tr>\n",
       "    <tr>\n",
       "      <th>16207</th>\n",
       "      <td>3291257.0</td>\n",
       "      <td>2025-05-21 00:00:41</td>\n",
       "      <td>\"Control\"</td>\n",
       "      <td>1</td>\n",
       "      <td>2025-05-21 00:04:18.000</td>\n",
       "    </tr>\n",
       "    <tr>\n",
       "      <th>6398</th>\n",
       "      <td>3291273.0</td>\n",
       "      <td>2025-05-21 00:00:42</td>\n",
       "      <td>\"Control\"</td>\n",
       "      <td>0</td>\n",
       "      <td>NaN</td>\n",
       "    </tr>\n",
       "    <tr>\n",
       "      <th>16206</th>\n",
       "      <td>3291257.0</td>\n",
       "      <td>2025-05-21 00:01:12</td>\n",
       "      <td>\"Control\"</td>\n",
       "      <td>1</td>\n",
       "      <td>2025-05-21 00:04:18.000</td>\n",
       "    </tr>\n",
       "    <tr>\n",
       "      <th>...</th>\n",
       "      <td>...</td>\n",
       "      <td>...</td>\n",
       "      <td>...</td>\n",
       "      <td>...</td>\n",
       "      <td>...</td>\n",
       "    </tr>\n",
       "    <tr>\n",
       "      <th>83690</th>\n",
       "      <td>3344514.0</td>\n",
       "      <td>2025-05-31 19:32:13</td>\n",
       "      <td>\"Control\"</td>\n",
       "      <td>0</td>\n",
       "      <td>NaN</td>\n",
       "    </tr>\n",
       "    <tr>\n",
       "      <th>46349</th>\n",
       "      <td>3344512.0</td>\n",
       "      <td>2025-05-31 19:32:29</td>\n",
       "      <td>\"Control\"</td>\n",
       "      <td>0</td>\n",
       "      <td>NaN</td>\n",
       "    </tr>\n",
       "    <tr>\n",
       "      <th>66176</th>\n",
       "      <td>3335844.0</td>\n",
       "      <td>2025-05-31 19:32:40</td>\n",
       "      <td>\"Control\"</td>\n",
       "      <td>1</td>\n",
       "      <td>2025-05-31 19:58:17.000</td>\n",
       "    </tr>\n",
       "    <tr>\n",
       "      <th>30364</th>\n",
       "      <td>3343685.0</td>\n",
       "      <td>2025-05-31 19:32:53</td>\n",
       "      <td>\"Control\"</td>\n",
       "      <td>1</td>\n",
       "      <td>2025-06-03 03:38:28.000</td>\n",
       "    </tr>\n",
       "    <tr>\n",
       "      <th>108207</th>\n",
       "      <td>3343685.0</td>\n",
       "      <td>2025-05-31 19:32:53</td>\n",
       "      <td>\"Control\"</td>\n",
       "      <td>1</td>\n",
       "      <td>2025-05-31 19:33:26.000</td>\n",
       "    </tr>\n",
       "  </tbody>\n",
       "</table>\n",
       "<p>46844 rows × 5 columns</p>\n",
       "</div>"
      ],
      "text/plain": [
       "          USER_ID       EXPOSURE_DATE    VARIANT  KPI_ACTION  \\\n",
       "87301   3291271.0 2025-05-21 00:00:36  \"Control\"           1   \n",
       "66538   3291271.0 2025-05-21 00:00:36  \"Control\"           1   \n",
       "16207   3291257.0 2025-05-21 00:00:41  \"Control\"           1   \n",
       "6398    3291273.0 2025-05-21 00:00:42  \"Control\"           0   \n",
       "16206   3291257.0 2025-05-21 00:01:12  \"Control\"           1   \n",
       "...           ...                 ...        ...         ...   \n",
       "83690   3344514.0 2025-05-31 19:32:13  \"Control\"           0   \n",
       "46349   3344512.0 2025-05-31 19:32:29  \"Control\"           0   \n",
       "66176   3335844.0 2025-05-31 19:32:40  \"Control\"           1   \n",
       "30364   3343685.0 2025-05-31 19:32:53  \"Control\"           1   \n",
       "108207  3343685.0 2025-05-31 19:32:53  \"Control\"           1   \n",
       "\n",
       "                       KPI_DATE  \n",
       "87301   2025-05-30 23:40:04.000  \n",
       "66538   2025-05-31 00:17:42.000  \n",
       "16207   2025-05-21 00:04:18.000  \n",
       "6398                        NaN  \n",
       "16206   2025-05-21 00:04:18.000  \n",
       "...                         ...  \n",
       "83690                       NaN  \n",
       "46349                       NaN  \n",
       "66176   2025-05-31 19:58:17.000  \n",
       "30364   2025-06-03 03:38:28.000  \n",
       "108207  2025-05-31 19:33:26.000  \n",
       "\n",
       "[46844 rows x 5 columns]"
      ]
     },
     "execution_count": 12,
     "metadata": {},
     "output_type": "execute_result"
    }
   ],
   "source": [
    "data_control.iloc[:int(13.5*ppl*N)]"
   ]
  },
  {
   "cell_type": "code",
   "execution_count": 13,
   "metadata": {
    "colab": {
     "base_uri": "https://localhost:8080/",
     "height": 178
    },
    "executionInfo": {
     "elapsed": 23,
     "status": "ok",
     "timestamp": 1749017483038,
     "user": {
      "displayName": "Gouni Jacobi",
      "userId": "08982400113585271278"
     },
     "user_tz": -180
    },
    "id": "foNXPe0pkIZs",
    "outputId": "f64ef606-b2a1-4dbe-9e3e-377044181310"
   },
   "outputs": [
    {
     "data": {
      "text/plain": [
       "VARIANT\n",
       "\"Control\"        0.308441\n",
       "\"Variation-1\"    0.310629\n",
       "Name: KPI_ACTION, dtype: float64"
      ]
     },
     "execution_count": 13,
     "metadata": {},
     "output_type": "execute_result"
    }
   ],
   "source": [
    "data.groupby('VARIANT')['KPI_ACTION'].mean()"
   ]
  },
  {
   "cell_type": "code",
   "execution_count": 14,
   "metadata": {
    "colab": {
     "base_uri": "https://localhost:8080/"
    },
    "executionInfo": {
     "elapsed": 59,
     "status": "ok",
     "timestamp": 1749111602787,
     "user": {
      "displayName": "Gouni Jacobi",
      "userId": "08982400113585271278"
     },
     "user_tz": -180
    },
    "id": "9xHjjhDpmI8B",
    "outputId": "364a1873-5952-455e-aa51-c098cc7fa5bd"
   },
   "outputs": [
    {
     "name": "stdout",
     "output_type": "stream",
     "text": [
      "Second 0 - 100.00%\n",
      "Second 3600 - 20.72%\n",
      "Second 7200 - 17.54%\n",
      "Second 10800 - 16.19%\n",
      "Second 14400 - 15.29%\n",
      "Second 18000 - 14.69%\n",
      "Second 21600 - 14.20%\n",
      "Second 25200 - 13.82%\n",
      "Second 28800 - 13.44%\n",
      "Second 32400 - 13.09%\n",
      "Second 36000 - 12.76%\n"
     ]
    }
   ],
   "source": [
    "data['EXPOSURE_DATE'] = pd.to_datetime(data['EXPOSURE_DATE'])\n",
    "data['KPI_DATE'] = pd.to_datetime(data['KPI_DATE'])\n",
    "ser = data['KPI_DATE'] - data['EXPOSURE_DATE']\n",
    "ser.dropna(inplace=True)\n",
    "\n",
    "for d in range(0, 3600*11, 3600):\n",
    "    print(f'Second {d} - {(ser.dt.total_seconds() >= d).mean():.2%}')"
   ]
  },
  {
   "cell_type": "code",
   "execution_count": 15,
   "metadata": {
    "colab": {
     "base_uri": "https://localhost:8080/"
    },
    "executionInfo": {
     "elapsed": 7,
     "status": "ok",
     "timestamp": 1749111553855,
     "user": {
      "displayName": "Gouni Jacobi",
      "userId": "08982400113585271278"
     },
     "user_tz": -180
    },
    "id": "fJIblDvAKzMe",
    "outputId": "a3244785-665e-4c85-f872-045444458c5d"
   },
   "outputs": [
    {
     "data": {
      "text/plain": [
       "862768.0"
      ]
     },
     "execution_count": 15,
     "metadata": {},
     "output_type": "execute_result"
    }
   ],
   "source": [
    "ser.iloc[0].total_seconds()"
   ]
  }
 ],
 "metadata": {
  "colab": {
   "authorship_tag": "ABX9TyP1+wSHpoYITudjU58bo3U7",
   "mount_file_id": "1lyZBcfUcIk4Hy-ouvr2fQ-KbX1Z1OaX5",
   "provenance": []
  },
  "kernelspec": {
   "display_name": "Python 3",
   "name": "python3"
  },
  "language_info": {
   "codemirror_mode": {
    "name": "ipython",
    "version": 3
   },
   "file_extension": ".py",
   "mimetype": "text/x-python",
   "name": "python",
   "nbconvert_exporter": "python",
   "pygments_lexer": "ipython3",
   "version": "3.13.2"
  }
 },
 "nbformat": 4,
 "nbformat_minor": 0
}
